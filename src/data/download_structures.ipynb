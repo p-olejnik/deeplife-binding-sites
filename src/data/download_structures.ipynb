{
 "cells": [
  {
   "cell_type": "code",
   "execution_count": 1,
   "id": "a1979afe",
   "metadata": {},
   "outputs": [],
   "source": [
    "import sys\n",
    "from pathlib import Path\n",
    "\n",
    "project_root = Path().resolve().parents[1]\n",
    "sys.path.append(str(project_root))"
   ]
  },
  {
   "cell_type": "code",
   "execution_count": 4,
   "id": "b2e4b52f",
   "metadata": {},
   "outputs": [],
   "source": [
    "import requests\n",
    "from time import sleep\n",
    "\n",
    "import pandas as pd\n",
    "from tqdm import tqdm\n",
    "\n",
    "from src.constants import HACKATHON_DATA, ALPHAFOLD_STRUCTURES_DIR, PDB_STRUCTURES_DIR"
   ]
  },
  {
   "cell_type": "markdown",
   "id": "9f4be098",
   "metadata": {},
   "source": [
    "### 1. Find unique PDB and AlphaFoldDB IDs"
   ]
  },
  {
   "cell_type": "code",
   "execution_count": 5,
   "id": "752590aa",
   "metadata": {},
   "outputs": [
    {
     "data": {
      "text/html": [
       "<div>\n",
       "<style scoped>\n",
       "    .dataframe tbody tr th:only-of-type {\n",
       "        vertical-align: middle;\n",
       "    }\n",
       "\n",
       "    .dataframe tbody tr th {\n",
       "        vertical-align: top;\n",
       "    }\n",
       "\n",
       "    .dataframe thead th {\n",
       "        text-align: right;\n",
       "    }\n",
       "</style>\n",
       "<table border=\"1\" class=\"dataframe\">\n",
       "  <thead>\n",
       "    <tr style=\"text-align: right;\">\n",
       "      <th></th>\n",
       "      <th>pdb_id</th>\n",
       "      <th>query_poi</th>\n",
       "      <th>chain</th>\n",
       "      <th>uniprot_id</th>\n",
       "      <th>pdb_pocket_selection</th>\n",
       "      <th>alphafold_pocket_selection</th>\n",
       "    </tr>\n",
       "  </thead>\n",
       "  <tbody>\n",
       "    <tr>\n",
       "      <th>0</th>\n",
       "      <td>3kr4</td>\n",
       "      <td>K_BES_1003</td>\n",
       "      <td>K</td>\n",
       "      <td>Q8IL11</td>\n",
       "      <td>3kr4 and ( (chain K and resi 374+379+386+392+3...</td>\n",
       "      <td>AF-Q8IL11-F1-model_v4 and ( resi 374+379+386+3...</td>\n",
       "    </tr>\n",
       "    <tr>\n",
       "      <th>1</th>\n",
       "      <td>3kun</td>\n",
       "      <td>B_HEM_139</td>\n",
       "      <td>B</td>\n",
       "      <td>Q9NAV8</td>\n",
       "      <td>3kun and ( (chain B and resi 24+31+34+35+36+51...</td>\n",
       "      <td>AF-Q9NAV8-F1-model_v4 and ( resi 25+32+35+36+3...</td>\n",
       "    </tr>\n",
       "    <tr>\n",
       "      <th>2</th>\n",
       "      <td>5t67</td>\n",
       "      <td>A_SAH_502</td>\n",
       "      <td>A</td>\n",
       "      <td>B3TMQ9</td>\n",
       "      <td>5t67 and ( (chain A and resi 72+76+78+80+90+11...</td>\n",
       "      <td>AF-B3TMQ9-F1-model_v4 and ( resi 72+76+78+80+9...</td>\n",
       "    </tr>\n",
       "    <tr>\n",
       "      <th>3</th>\n",
       "      <td>3kr6</td>\n",
       "      <td>A_FFQ_500</td>\n",
       "      <td>A</td>\n",
       "      <td>P0A749</td>\n",
       "      <td>3kr6 and ( (chain A and resi 22+23+49+91+114+1...</td>\n",
       "      <td>AF-P0A749-F1-model_v4 and ( resi 22+23+49+91+1...</td>\n",
       "    </tr>\n",
       "    <tr>\n",
       "      <th>4</th>\n",
       "      <td>3kpz</td>\n",
       "      <td>A_ZNE_525</td>\n",
       "      <td>A</td>\n",
       "      <td>P11473</td>\n",
       "      <td>3kpz and ( (chain A and resi 143+147+150+227+2...</td>\n",
       "      <td>AF-P11473-F1-model_v4 and ( resi 143+147+150+2...</td>\n",
       "    </tr>\n",
       "  </tbody>\n",
       "</table>\n",
       "</div>"
      ],
      "text/plain": [
       "  pdb_id   query_poi chain uniprot_id  \\\n",
       "0   3kr4  K_BES_1003     K     Q8IL11   \n",
       "1   3kun   B_HEM_139     B     Q9NAV8   \n",
       "2   5t67   A_SAH_502     A     B3TMQ9   \n",
       "3   3kr6   A_FFQ_500     A     P0A749   \n",
       "4   3kpz   A_ZNE_525     A     P11473   \n",
       "\n",
       "                                pdb_pocket_selection  \\\n",
       "0  3kr4 and ( (chain K and resi 374+379+386+392+3...   \n",
       "1  3kun and ( (chain B and resi 24+31+34+35+36+51...   \n",
       "2  5t67 and ( (chain A and resi 72+76+78+80+90+11...   \n",
       "3  3kr6 and ( (chain A and resi 22+23+49+91+114+1...   \n",
       "4  3kpz and ( (chain A and resi 143+147+150+227+2...   \n",
       "\n",
       "                          alphafold_pocket_selection  \n",
       "0  AF-Q8IL11-F1-model_v4 and ( resi 374+379+386+3...  \n",
       "1  AF-Q9NAV8-F1-model_v4 and ( resi 25+32+35+36+3...  \n",
       "2  AF-B3TMQ9-F1-model_v4 and ( resi 72+76+78+80+9...  \n",
       "3  AF-P0A749-F1-model_v4 and ( resi 22+23+49+91+1...  \n",
       "4  AF-P11473-F1-model_v4 and ( resi 143+147+150+2...  "
      ]
     },
     "execution_count": 5,
     "metadata": {},
     "output_type": "execute_result"
    }
   ],
   "source": [
    "data = pd.read_csv(HACKATHON_DATA)\n",
    "data.head()"
   ]
  },
  {
   "cell_type": "code",
   "execution_count": 6,
   "id": "fee48d5e",
   "metadata": {},
   "outputs": [
    {
     "name": "stdout",
     "output_type": "stream",
     "text": [
      "Number of unique PDB IDs: 24988\n",
      "Unique PDB IDs: ['3kr4' '3kun' '5t67' ... '1w7c' '1w34' '1w77']\n"
     ]
    }
   ],
   "source": [
    "unique_pdb_ids = data['pdb_id'].unique()\n",
    "print(f\"Number of unique PDB IDs: {len(unique_pdb_ids)}\")\n",
    "print(f\"Unique PDB IDs: {unique_pdb_ids}\")"
   ]
  },
  {
   "cell_type": "code",
   "execution_count": 7,
   "id": "1995caa4",
   "metadata": {},
   "outputs": [
    {
     "name": "stdout",
     "output_type": "stream",
     "text": [
      "Number of unique UniProt IDs: 8130\n",
      "Unique UniProt IDs: ['Q8IL11' 'Q9NAV8' 'B3TMQ9' ... 'Q96AZ6' 'Q96X16' 'P69834']\n"
     ]
    }
   ],
   "source": [
    "unique_uniprot_ids = data['uniprot_id'].unique()\n",
    "print(f\"Number of unique UniProt IDs: {len(unique_uniprot_ids)}\")\n",
    "print(f\"Unique UniProt IDs: {unique_uniprot_ids}\")"
   ]
  },
  {
   "cell_type": "markdown",
   "id": "2730ac17",
   "metadata": {},
   "source": [
    "### 2. Download apo structure predictions from AlphaFoldDB"
   ]
  },
  {
   "cell_type": "code",
   "execution_count": 11,
   "id": "6761b18a",
   "metadata": {},
   "outputs": [],
   "source": [
    "def get_alphafold_url(uniprot_id: str) -> str:\n",
    "    return f\"https://alphafold.ebi.ac.uk/files/AF-{uniprot_id}-F1-model_v4.pdb\"\n",
    "\n",
    "def get_pdb_url(pdb_id: str) -> str:\n",
    "    return f\"https://files.rcsb.org/download/{pdb_id}.pdb\""
   ]
  },
  {
   "cell_type": "code",
   "execution_count": null,
   "id": "2a742e2a",
   "metadata": {},
   "outputs": [],
   "source": [
    "def download_structure(\n",
    "    structure_id: str,\n",
    "    database: str,\n",
    "    out_dir: Path,\n",
    "    format: str = \"pdb\",\n",
    "    overwrite: bool = False\n",
    ") -> str:\n",
    "    \"\"\"\n",
    "    Download a structure file from the given URL and save it to the specified directory.\n",
    "\n",
    "    Args:\n",
    "        structure_id (str): The ID of the structure to download.\n",
    "        out_dir (Path): The directory to save the downloaded file.\n",
    "        format (str): The format of the structure file (e.g., \"pdb\").\n",
    "        overwrite (bool): Whether to overwrite the file if it already exists.\n",
    "\n",
    "    Returns:\n",
    "        str: File download status (\"downloaded\", \"not found\", or \"error\").\n",
    "    \"\"\"\n",
    "    assert database in [\"alphafold\", \"pdb\"], \"Database must be either 'alphafold' or 'pdb'.\"\n",
    "    assert format in [\"pdb\", \"cif\"], \"Format must be either 'pdb' or 'cif'.\"\n",
    "\n",
    "    url = get_alphafold_url(structure_id) if database == \"alphafold\" else get_pdb_url(structure_id)\n",
    "    out_file = out_dir / f\"{structure_id}.{format}\"\n",
    "\n",
    "    if out_file.exists() and not overwrite:\n",
    "        print(f\"File {out_file} already exists. Skipping download.\")\n",
    "        return\n",
    "\n",
    "    r = requests.get(url)\n",
    "    if r.status_code == 200:\n",
    "        out_file.write_bytes(r.content)\n",
    "        return \"downloaded\"\n",
    "    elif r.status_code == 404:\n",
    "        return \"not found\"\n",
    "    else:\n",
    "        return f\"error ({r.status_code})\""
   ]
  },
  {
   "cell_type": "code",
   "execution_count": 18,
   "id": "62f4a571",
   "metadata": {},
   "outputs": [],
   "source": [
    "def download_all_structures(\n",
    "    structure_ids: list[str],\n",
    "    database: str,\n",
    "    out_dir: Path,\n",
    "    format: str = \"pdb\",\n",
    "    overwrite: bool = False,\n",
    "    delay: float = 0.5\n",
    ") -> None:\n",
    "    \"\"\"\n",
    "    Download all structures from the given list of structure IDs.\n",
    "\n",
    "    Args:\n",
    "        structure_ids (list): List of structure IDs to download.\n",
    "        out_dir (Path): The directory to save the downloaded files.\n",
    "        format (str): The format of the structure files (e.g., \"pdb\").\n",
    "        overwrite (bool): Whether to overwrite the files if they already exist.\n",
    "        delay (float): Delay in seconds between downloads to avoid overwhelming the server.\n",
    "    \"\"\"\n",
    "    out_dir.mkdir(parents=True, exist_ok=True)\n",
    "\n",
    "    results = {}\n",
    "    for structure_id in tqdm(structure_ids):\n",
    "        result = download_structure(structure_id, database, out_dir, format, overwrite)\n",
    "        results[structure_id] = result\n",
    "        sleep(delay)\n",
    "\n",
    "    return results"
   ]
  },
  {
   "cell_type": "code",
   "execution_count": 21,
   "id": "f9e65aa6",
   "metadata": {},
   "outputs": [
    {
     "data": {
      "text/plain": [
       "array(['3kr4', '3kun', '5t67'], dtype=object)"
      ]
     },
     "execution_count": 21,
     "metadata": {},
     "output_type": "execute_result"
    }
   ],
   "source": [
    "unique_pdb_ids[:3]"
   ]
  },
  {
   "cell_type": "code",
   "execution_count": 22,
   "id": "b20d85cd",
   "metadata": {},
   "outputs": [
    {
     "name": "stderr",
     "output_type": "stream",
     "text": [
      "  0%|          | 0/3 [00:02<?, ?it/s]\n"
     ]
    },
    {
     "ename": "NameError",
     "evalue": "name 'out_path' is not defined",
     "output_type": "error",
     "traceback": [
      "\u001b[31m---------------------------------------------------------------------------\u001b[39m",
      "\u001b[31mNameError\u001b[39m                                 Traceback (most recent call last)",
      "\u001b[36mCell\u001b[39m\u001b[36m \u001b[39m\u001b[32mIn[22]\u001b[39m\u001b[32m, line 2\u001b[39m\n\u001b[32m      1\u001b[39m pdb_ids = unique_pdb_ids[:\u001b[32m3\u001b[39m]\n\u001b[32m----> \u001b[39m\u001b[32m2\u001b[39m results = \u001b[43mdownload_all_structures\u001b[49m\u001b[43m(\u001b[49m\n\u001b[32m      3\u001b[39m \u001b[43m    \u001b[49m\u001b[43mpdb_ids\u001b[49m\u001b[43m,\u001b[49m\n\u001b[32m      4\u001b[39m \u001b[43m    \u001b[49m\u001b[43mdatabase\u001b[49m\u001b[43m=\u001b[49m\u001b[33;43m\"\u001b[39;49m\u001b[33;43mpdb\u001b[39;49m\u001b[33;43m\"\u001b[39;49m\u001b[43m,\u001b[49m\n\u001b[32m      5\u001b[39m \u001b[43m    \u001b[49m\u001b[43mout_dir\u001b[49m\u001b[43m=\u001b[49m\u001b[43mPDB_STRUCTURES_DIR\u001b[49m\u001b[43m,\u001b[49m\n\u001b[32m      6\u001b[39m \u001b[43m    \u001b[49m\u001b[38;5;28;43mformat\u001b[39;49m\u001b[43m=\u001b[49m\u001b[33;43m\"\u001b[39;49m\u001b[33;43mpdb\u001b[39;49m\u001b[33;43m\"\u001b[39;49m\u001b[43m,\u001b[49m\n\u001b[32m      7\u001b[39m \u001b[43m    \u001b[49m\u001b[43moverwrite\u001b[49m\u001b[43m=\u001b[49m\u001b[38;5;28;43;01mFalse\u001b[39;49;00m\u001b[43m,\u001b[49m\n\u001b[32m      8\u001b[39m \u001b[43m    \u001b[49m\u001b[43mdelay\u001b[49m\u001b[43m=\u001b[49m\u001b[32;43m0.5\u001b[39;49m\n\u001b[32m      9\u001b[39m \u001b[43m)\u001b[49m\n\u001b[32m     10\u001b[39m \u001b[38;5;28mprint\u001b[39m(\u001b[33m\"\u001b[39m\u001b[33mPDB download results:\u001b[39m\u001b[33m\"\u001b[39m)\n\u001b[32m     11\u001b[39m \u001b[38;5;28;01mfor\u001b[39;00m pdb_id, result \u001b[38;5;129;01min\u001b[39;00m results.items():\n",
      "\u001b[36mCell\u001b[39m\u001b[36m \u001b[39m\u001b[32mIn[18]\u001b[39m\u001b[32m, line 23\u001b[39m, in \u001b[36mdownload_all_structures\u001b[39m\u001b[34m(structure_ids, database, out_dir, format, overwrite, delay)\u001b[39m\n\u001b[32m     21\u001b[39m results = {}\n\u001b[32m     22\u001b[39m \u001b[38;5;28;01mfor\u001b[39;00m structure_id \u001b[38;5;129;01min\u001b[39;00m tqdm(structure_ids):\n\u001b[32m---> \u001b[39m\u001b[32m23\u001b[39m     result = \u001b[43mdownload_structure\u001b[49m\u001b[43m(\u001b[49m\u001b[43mstructure_id\u001b[49m\u001b[43m,\u001b[49m\u001b[43m \u001b[49m\u001b[43mdatabase\u001b[49m\u001b[43m,\u001b[49m\u001b[43m \u001b[49m\u001b[43mout_dir\u001b[49m\u001b[43m,\u001b[49m\u001b[43m \u001b[49m\u001b[38;5;28;43mformat\u001b[39;49m\u001b[43m,\u001b[49m\u001b[43m \u001b[49m\u001b[43moverwrite\u001b[49m\u001b[43m)\u001b[49m\n\u001b[32m     24\u001b[39m     results[structure_id] = result\n\u001b[32m     25\u001b[39m     sleep(delay)\n",
      "\u001b[36mCell\u001b[39m\u001b[36m \u001b[39m\u001b[32mIn[17]\u001b[39m\u001b[32m, line 32\u001b[39m, in \u001b[36mdownload_structure\u001b[39m\u001b[34m(structure_id, database, out_dir, format, overwrite)\u001b[39m\n\u001b[32m     30\u001b[39m r = requests.get(url)\n\u001b[32m     31\u001b[39m \u001b[38;5;28;01mif\u001b[39;00m r.status_code == \u001b[32m200\u001b[39m:\n\u001b[32m---> \u001b[39m\u001b[32m32\u001b[39m     \u001b[43mout_path\u001b[49m.write_bytes(r.content)\n\u001b[32m     33\u001b[39m     \u001b[38;5;28;01mreturn\u001b[39;00m \u001b[33m\"\u001b[39m\u001b[33mdownloaded\u001b[39m\u001b[33m\"\u001b[39m\n\u001b[32m     34\u001b[39m \u001b[38;5;28;01melif\u001b[39;00m r.status_code == \u001b[32m404\u001b[39m:\n",
      "\u001b[31mNameError\u001b[39m: name 'out_path' is not defined"
     ]
    }
   ],
   "source": [
    "pdb_ids = unique_pdb_ids[:3]\n",
    "results = download_all_structures(\n",
    "    pdb_ids,\n",
    "    database=\"pdb\",\n",
    "    out_dir=PDB_STRUCTURES_DIR,\n",
    "    format=\"pdb\",\n",
    "    overwrite=False,\n",
    "    delay=0.5\n",
    ")\n",
    "print(\"PDB download results:\")\n",
    "for pdb_id, result in results.items():\n",
    "    print(f\"{pdb_id}: {result}\")"
   ]
  },
  {
   "cell_type": "code",
   "execution_count": 21,
   "id": "90669351",
   "metadata": {},
   "outputs": [],
   "source": [
    "def download_alphafold_structure(uniprot_id: str, out_dir: Path, format: str = \"pdb\", overwrite=False):\n",
    "    \"\"\"\n",
    "    Downloads AlphaFold predicted structure for a given UniProt ID.\n",
    "\n",
    "    Args:\n",
    "        uniprot_id (str): UniProt accession ID (e.g., 'P12345')\n",
    "        out_dir (Path): Directory to save the file\n",
    "        format (str): 'pdb' or 'cif'\n",
    "        overwrite (bool): Whether to overwrite if file exists\n",
    "    \"\"\"\n",
    "    assert format in {\"pdb\", \"cif\"}\n",
    "    url = f\"https://alphafold.ebi.ac.uk/files/AF-{uniprot_id}-F1-model_v4.{format}\"\n",
    "    out_path = out_dir / f\"{uniprot_id}.{format}\"\n",
    "\n",
    "    if out_path.exists() and not overwrite:\n",
    "        return \"exists\"\n",
    "\n",
    "    r = requests.get(url)\n",
    "    if r.status_code == 200:\n",
    "        out_path.write_bytes(r.content)\n",
    "        return \"downloaded\"\n",
    "    elif r.status_code == 404:\n",
    "        return \"not found\"\n",
    "    else:\n",
    "        return f\"error ({r.status_code})\"\n",
    "\n",
    "def download_all_alphafold(uniprot_ids, out_dir, format=\"pdb\", delay=0.5):\n",
    "    out_dir = Path(out_dir)\n",
    "    out_dir.mkdir(parents=True, exist_ok=True)\n",
    "\n",
    "    results = {}\n",
    "    for uid in tqdm(uniprot_ids):\n",
    "        result = download_alphafold_structure(uid, out_dir, format=format)\n",
    "        results[uid] = result\n",
    "        sleep(delay)  # polite pause between requests\n",
    "\n",
    "    return results"
   ]
  },
  {
   "cell_type": "code",
   "execution_count": 20,
   "id": "727f08b6",
   "metadata": {},
   "outputs": [
    {
     "name": "stderr",
     "output_type": "stream",
     "text": [
      "100%|██████████| 3/3 [00:02<00:00,  1.49it/s]"
     ]
    },
    {
     "name": "stdout",
     "output_type": "stream",
     "text": [
      "{'P12345': 'downloaded', 'Q9H9K5': 'downloaded', 'O60260': 'downloaded'}\n"
     ]
    },
    {
     "name": "stderr",
     "output_type": "stream",
     "text": [
      "\n"
     ]
    }
   ],
   "source": [
    "uniprot_ids = [\"P12345\", \"Q9H9K5\", \"O60260\"]  # Replace with your actual list\n",
    "results = download_all_alphafold(uniprot_ids, out_dir=ALPHAFOLD_STRUCTURES_DIR, format=\"pdb\")\n",
    "print(results)"
   ]
  },
  {
   "cell_type": "markdown",
   "id": "1c5922ed",
   "metadata": {},
   "source": [
    "### 3. Download holo structures from PDB"
   ]
  },
  {
   "cell_type": "code",
   "execution_count": null,
   "id": "1c5e5242",
   "metadata": {},
   "outputs": [],
   "source": [
    "def download_pdb_structure(pdb_id: str, out_dir: Path, format: str = \"pdb\", overwrite=False):\n",
    "    \"\"\"\n",
    "    Downloads PDB structure by PDB ID.\n",
    "\n",
    "    Args:\n",
    "        pdb_id (str): e.g., '1TUP'\n",
    "        out_dir (Path): directory to save file\n",
    "        format (str): 'pdb' or 'cif'\n",
    "        overwrite (bool): overwrite if file exists\n",
    "    \"\"\"\n",
    "    assert format in {\"pdb\", \"cif\"}\n",
    "    url = f\"https://files.rcsb.org/download/{pdb_id.upper()}.{format}\"\n",
    "    out_path = out_dir / f\"{pdb_id.upper()}.{format}\"\n",
    "\n",
    "    if out_path.exists() and not overwrite:\n",
    "        return \"exists\"\n",
    "\n",
    "    r = requests.get(url)\n",
    "    if r.status_code == 200:\n",
    "        out_path.write_bytes(r.content)\n",
    "        return \"downloaded\"\n",
    "    elif r.status_code == 404:\n",
    "        return \"not found\"\n",
    "    else:\n",
    "        return f\"error ({r.status_code})\"\n",
    "\n",
    "def download_all_pdb(pdb_ids, out_dir, format=\"pdb\", delay=0.5):\n",
    "    out_dir = Path(out_dir)\n",
    "    out_dir.mkdir(parents=True, exist_ok=True)\n",
    "\n",
    "    results = {}\n",
    "    for pdb_id in tqdm(pdb_ids):\n",
    "        result = download_pdb_structure(pdb_id, out_dir, format=format)\n",
    "        results[pdb_id] = result\n",
    "        sleep(delay)\n",
    "\n",
    "    return results"
   ]
  },
  {
   "cell_type": "code",
   "execution_count": 10,
   "id": "1cff13dc",
   "metadata": {},
   "outputs": [
    {
     "ename": "TypeError",
     "evalue": "download_all_pdb() missing 1 required positional argument: 'out_dir'",
     "output_type": "error",
     "traceback": [
      "\u001b[31m---------------------------------------------------------------------------\u001b[39m",
      "\u001b[31mTypeError\u001b[39m                                 Traceback (most recent call last)",
      "\u001b[36mCell\u001b[39m\u001b[36m \u001b[39m\u001b[32mIn[10]\u001b[39m\u001b[32m, line 2\u001b[39m\n\u001b[32m      1\u001b[39m pdb_ids = [\u001b[33m\"\u001b[39m\u001b[33m1TUP\u001b[39m\u001b[33m\"\u001b[39m, \u001b[33m\"\u001b[39m\u001b[33m4HHB\u001b[39m\u001b[33m\"\u001b[39m, \u001b[33m\"\u001b[39m\u001b[33m2BEG\u001b[39m\u001b[33m\"\u001b[39m]  \u001b[38;5;66;03m# Replace with your actual list\u001b[39;00m\n\u001b[32m----> \u001b[39m\u001b[32m2\u001b[39m results = \u001b[43mdownload_all_pdb\u001b[49m\u001b[43m(\u001b[49m\u001b[43mpdb_ids\u001b[49m\u001b[43m,\u001b[49m\u001b[43m \u001b[49m\u001b[43m)\u001b[49m\n\u001b[32m      3\u001b[39m \u001b[38;5;28mprint\u001b[39m(results)\n",
      "\u001b[31mTypeError\u001b[39m: download_all_pdb() missing 1 required positional argument: 'out_dir'"
     ]
    }
   ],
   "source": [
    "pdb_ids = [\"1TUP\", \"4HHB\", \"2BEG\"]  # Replace with your actual list\n",
    "results = download_all_pdb(pdb_ids, )\n",
    "print(results)"
   ]
  }
 ],
 "metadata": {
  "kernelspec": {
   "display_name": "venv",
   "language": "python",
   "name": "python3"
  },
  "language_info": {
   "codemirror_mode": {
    "name": "ipython",
    "version": 3
   },
   "file_extension": ".py",
   "mimetype": "text/x-python",
   "name": "python",
   "nbconvert_exporter": "python",
   "pygments_lexer": "ipython3",
   "version": "3.11.11"
  }
 },
 "nbformat": 4,
 "nbformat_minor": 5
}
