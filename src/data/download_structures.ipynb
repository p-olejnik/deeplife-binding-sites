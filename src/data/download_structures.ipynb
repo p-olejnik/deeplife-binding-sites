{
 "cells": [
  {
   "cell_type": "code",
   "execution_count": 1,
   "id": "a1979afe",
   "metadata": {},
   "outputs": [],
   "source": [
    "import sys\n",
    "from pathlib import Path\n",
    "\n",
    "project_root = Path().resolve().parents[1]\n",
    "sys.path.append(str(project_root))"
   ]
  },
  {
   "cell_type": "code",
   "execution_count": 4,
   "id": "b2e4b52f",
   "metadata": {},
   "outputs": [],
   "source": [
    "import requests\n",
    "from time import sleep\n",
    "\n",
    "import pandas as pd\n",
    "from tqdm import tqdm\n",
    "\n",
    "from src.constants import HACKATHON_DATA, ALPHAFOLD_STRUCTURES_DIR, PDB_STRUCTURES_DIR"
   ]
  },
  {
   "cell_type": "markdown",
   "id": "9f4be098",
   "metadata": {},
   "source": [
    "### 1. Find unique PDB and AlphaFoldDB IDs"
   ]
  },
  {
   "cell_type": "code",
   "execution_count": 5,
   "id": "752590aa",
   "metadata": {},
   "outputs": [
    {
     "data": {
      "text/html": [
       "<div>\n",
       "<style scoped>\n",
       "    .dataframe tbody tr th:only-of-type {\n",
       "        vertical-align: middle;\n",
       "    }\n",
       "\n",
       "    .dataframe tbody tr th {\n",
       "        vertical-align: top;\n",
       "    }\n",
       "\n",
       "    .dataframe thead th {\n",
       "        text-align: right;\n",
       "    }\n",
       "</style>\n",
       "<table border=\"1\" class=\"dataframe\">\n",
       "  <thead>\n",
       "    <tr style=\"text-align: right;\">\n",
       "      <th></th>\n",
       "      <th>pdb_id</th>\n",
       "      <th>query_poi</th>\n",
       "      <th>chain</th>\n",
       "      <th>uniprot_id</th>\n",
       "      <th>pdb_pocket_selection</th>\n",
       "      <th>alphafold_pocket_selection</th>\n",
       "    </tr>\n",
       "  </thead>\n",
       "  <tbody>\n",
       "    <tr>\n",
       "      <th>0</th>\n",
       "      <td>3kr4</td>\n",
       "      <td>K_BES_1003</td>\n",
       "      <td>K</td>\n",
       "      <td>Q8IL11</td>\n",
       "      <td>3kr4 and ( (chain K and resi 374+379+386+392+3...</td>\n",
       "      <td>AF-Q8IL11-F1-model_v4 and ( resi 374+379+386+3...</td>\n",
       "    </tr>\n",
       "    <tr>\n",
       "      <th>1</th>\n",
       "      <td>3kun</td>\n",
       "      <td>B_HEM_139</td>\n",
       "      <td>B</td>\n",
       "      <td>Q9NAV8</td>\n",
       "      <td>3kun and ( (chain B and resi 24+31+34+35+36+51...</td>\n",
       "      <td>AF-Q9NAV8-F1-model_v4 and ( resi 25+32+35+36+3...</td>\n",
       "    </tr>\n",
       "    <tr>\n",
       "      <th>2</th>\n",
       "      <td>5t67</td>\n",
       "      <td>A_SAH_502</td>\n",
       "      <td>A</td>\n",
       "      <td>B3TMQ9</td>\n",
       "      <td>5t67 and ( (chain A and resi 72+76+78+80+90+11...</td>\n",
       "      <td>AF-B3TMQ9-F1-model_v4 and ( resi 72+76+78+80+9...</td>\n",
       "    </tr>\n",
       "    <tr>\n",
       "      <th>3</th>\n",
       "      <td>3kr6</td>\n",
       "      <td>A_FFQ_500</td>\n",
       "      <td>A</td>\n",
       "      <td>P0A749</td>\n",
       "      <td>3kr6 and ( (chain A and resi 22+23+49+91+114+1...</td>\n",
       "      <td>AF-P0A749-F1-model_v4 and ( resi 22+23+49+91+1...</td>\n",
       "    </tr>\n",
       "    <tr>\n",
       "      <th>4</th>\n",
       "      <td>3kpz</td>\n",
       "      <td>A_ZNE_525</td>\n",
       "      <td>A</td>\n",
       "      <td>P11473</td>\n",
       "      <td>3kpz and ( (chain A and resi 143+147+150+227+2...</td>\n",
       "      <td>AF-P11473-F1-model_v4 and ( resi 143+147+150+2...</td>\n",
       "    </tr>\n",
       "  </tbody>\n",
       "</table>\n",
       "</div>"
      ],
      "text/plain": [
       "  pdb_id   query_poi chain uniprot_id  \\\n",
       "0   3kr4  K_BES_1003     K     Q8IL11   \n",
       "1   3kun   B_HEM_139     B     Q9NAV8   \n",
       "2   5t67   A_SAH_502     A     B3TMQ9   \n",
       "3   3kr6   A_FFQ_500     A     P0A749   \n",
       "4   3kpz   A_ZNE_525     A     P11473   \n",
       "\n",
       "                                pdb_pocket_selection  \\\n",
       "0  3kr4 and ( (chain K and resi 374+379+386+392+3...   \n",
       "1  3kun and ( (chain B and resi 24+31+34+35+36+51...   \n",
       "2  5t67 and ( (chain A and resi 72+76+78+80+90+11...   \n",
       "3  3kr6 and ( (chain A and resi 22+23+49+91+114+1...   \n",
       "4  3kpz and ( (chain A and resi 143+147+150+227+2...   \n",
       "\n",
       "                          alphafold_pocket_selection  \n",
       "0  AF-Q8IL11-F1-model_v4 and ( resi 374+379+386+3...  \n",
       "1  AF-Q9NAV8-F1-model_v4 and ( resi 25+32+35+36+3...  \n",
       "2  AF-B3TMQ9-F1-model_v4 and ( resi 72+76+78+80+9...  \n",
       "3  AF-P0A749-F1-model_v4 and ( resi 22+23+49+91+1...  \n",
       "4  AF-P11473-F1-model_v4 and ( resi 143+147+150+2...  "
      ]
     },
     "execution_count": 5,
     "metadata": {},
     "output_type": "execute_result"
    }
   ],
   "source": [
    "data = pd.read_csv(HACKATHON_DATA)\n",
    "data.head()"
   ]
  },
  {
   "cell_type": "code",
   "execution_count": 6,
   "id": "fee48d5e",
   "metadata": {},
   "outputs": [
    {
     "name": "stdout",
     "output_type": "stream",
     "text": [
      "Number of unique PDB IDs: 24988\n",
      "Unique PDB IDs: ['3kr4' '3kun' '5t67' ... '1w7c' '1w34' '1w77']\n"
     ]
    }
   ],
   "source": [
    "unique_pdb_ids = data['pdb_id'].unique()\n",
    "print(f\"Number of unique PDB IDs: {len(unique_pdb_ids)}\")\n",
    "print(f\"Unique PDB IDs: {unique_pdb_ids}\")"
   ]
  },
  {
   "cell_type": "code",
   "execution_count": 7,
   "id": "1995caa4",
   "metadata": {},
   "outputs": [
    {
     "name": "stdout",
     "output_type": "stream",
     "text": [
      "Number of unique UniProt IDs: 8130\n",
      "Unique UniProt IDs: ['Q8IL11' 'Q9NAV8' 'B3TMQ9' ... 'Q96AZ6' 'Q96X16' 'P69834']\n"
     ]
    }
   ],
   "source": [
    "unique_uniprot_ids = data['uniprot_id'].unique()\n",
    "print(f\"Number of unique UniProt IDs: {len(unique_uniprot_ids)}\")\n",
    "print(f\"Unique UniProt IDs: {unique_uniprot_ids}\")"
   ]
  },
  {
   "cell_type": "markdown",
   "id": "2730ac17",
   "metadata": {},
   "source": [
    "### 2. Download PDB files\n",
    "- apo structure predictions from AlphaFold DB (by unique UniProt IDs)\n",
    "- holo structurers from PDB database (by PDB IDs)"
   ]
  },
  {
   "cell_type": "code",
   "execution_count": 11,
   "id": "6761b18a",
   "metadata": {},
   "outputs": [],
   "source": [
    "def get_alphafold_url(uniprot_id: str) -> str:\n",
    "    return f\"https://alphafold.ebi.ac.uk/files/AF-{uniprot_id}-F1-model_v4.pdb\"\n",
    "\n",
    "def get_pdb_url(pdb_id: str) -> str:\n",
    "    return f\"https://files.rcsb.org/download/{pdb_id}.pdb\""
   ]
  },
  {
   "cell_type": "code",
   "execution_count": 23,
   "id": "2a742e2a",
   "metadata": {},
   "outputs": [],
   "source": [
    "def download_structure(\n",
    "    structure_id: str,\n",
    "    database: str,\n",
    "    out_dir: Path,\n",
    "    format: str = \"pdb\",\n",
    "    overwrite: bool = False\n",
    ") -> str:\n",
    "    \"\"\"\n",
    "    Download a structure file from the given URL and save it to the specified directory.\n",
    "\n",
    "    Args:\n",
    "        structure_id (str): The ID of the structure to download.\n",
    "        out_dir (Path): The directory to save the downloaded file.\n",
    "        format (str): The format of the structure file (e.g., \"pdb\").\n",
    "        overwrite (bool): Whether to overwrite the file if it already exists.\n",
    "\n",
    "    Returns:\n",
    "        str: File download status (\"downloaded\", \"not found\", or \"error\").\n",
    "    \"\"\"\n",
    "    assert database in [\"alphafold\", \"pdb\"], \"Database must be either 'alphafold' or 'pdb'.\"\n",
    "    assert format in [\"pdb\", \"cif\"], \"Format must be either 'pdb' or 'cif'.\"\n",
    "\n",
    "    url = get_alphafold_url(structure_id) if database == \"alphafold\" else get_pdb_url(structure_id)\n",
    "    out_file = out_dir / f\"{structure_id}.{format}\"\n",
    "\n",
    "    if out_file.exists() and not overwrite:\n",
    "        print(f\"File {out_file} already exists. Skipping download.\")\n",
    "        return\n",
    "\n",
    "    r = requests.get(url)\n",
    "    if r.status_code == 200:\n",
    "        out_file.write_bytes(r.content)\n",
    "        return \"downloaded\"\n",
    "    elif r.status_code == 404:\n",
    "        return \"not found\"\n",
    "    else:\n",
    "        return f\"error ({r.status_code})\""
   ]
  },
  {
   "cell_type": "code",
   "execution_count": 24,
   "id": "62f4a571",
   "metadata": {},
   "outputs": [],
   "source": [
    "def download_all_structures(\n",
    "    structure_ids: list[str],\n",
    "    database: str,\n",
    "    out_dir: Path,\n",
    "    format: str = \"pdb\",\n",
    "    overwrite: bool = False,\n",
    "    delay: float = 0.5\n",
    ") -> None:\n",
    "    \"\"\"\n",
    "    Download all structures from the given list of structure IDs.\n",
    "\n",
    "    Args:\n",
    "        structure_ids (list): List of structure IDs to download.\n",
    "        out_dir (Path): The directory to save the downloaded files.\n",
    "        format (str): The format of the structure files (e.g., \"pdb\").\n",
    "        overwrite (bool): Whether to overwrite the files if they already exist.\n",
    "        delay (float): Delay in seconds between downloads to avoid overwhelming the server.\n",
    "    \"\"\"\n",
    "    out_dir.mkdir(parents=True, exist_ok=True)\n",
    "\n",
    "    results = {}\n",
    "    for structure_id in tqdm(structure_ids):\n",
    "        result = download_structure(structure_id, database, out_dir, format, overwrite)\n",
    "        results[structure_id] = result\n",
    "        sleep(delay)\n",
    "\n",
    "    return results"
   ]
  },
  {
   "cell_type": "markdown",
   "id": "ce53366d",
   "metadata": {},
   "source": [
    "Usage:\n",
    "\n",
    "*Warning: use the delay to not overwhelm the server and get IP block or something*"
   ]
  },
  {
   "cell_type": "code",
   "execution_count": 25,
   "id": "b20d85cd",
   "metadata": {},
   "outputs": [
    {
     "name": "stderr",
     "output_type": "stream",
     "text": [
      "100%|██████████| 3/3 [00:04<00:00,  1.57s/it]"
     ]
    },
    {
     "name": "stdout",
     "output_type": "stream",
     "text": [
      "PDB download results:\n",
      "3kr4: downloaded\n",
      "3kun: downloaded\n",
      "5t67: downloaded\n"
     ]
    },
    {
     "name": "stderr",
     "output_type": "stream",
     "text": [
      "\n"
     ]
    }
   ],
   "source": [
    "pdb_ids = unique_pdb_ids[:3]\n",
    "results = download_all_structures(\n",
    "    pdb_ids,\n",
    "    database=\"pdb\",\n",
    "    out_dir=PDB_STRUCTURES_DIR,\n",
    "    format=\"pdb\",\n",
    "    overwrite=False,\n",
    "    delay=0.5\n",
    ")\n",
    "print(\"PDB download results:\")\n",
    "for pdb_id, result in results.items():\n",
    "    print(f\"{pdb_id}: {result}\")"
   ]
  },
  {
   "cell_type": "code",
   "execution_count": null,
   "id": "358a8e5c",
   "metadata": {},
   "outputs": [
    {
     "name": "stderr",
     "output_type": "stream",
     "text": [
      "100%|██████████| 3/3 [00:00<00:00,  3.51it/s]"
     ]
    },
    {
     "name": "stdout",
     "output_type": "stream",
     "text": [
      "AlphaFold download results:\n",
      "Q8IL11: downloaded\n",
      "Q9NAV8: downloaded\n",
      "B3TMQ9: downloaded\n"
     ]
    },
    {
     "name": "stderr",
     "output_type": "stream",
     "text": [
      "\n"
     ]
    }
   ],
   "source": [
    "af_results = download_all_structures(\n",
    "    unique_uniprot_ids[:3],\n",
    "    database=\"alphafold\",\n",
    "    out_dir=ALPHAFOLD_STRUCTURES_DIR,\n",
    "    format=\"pdb\",\n",
    "    overwrite=True,\n",
    "    delay=0.5\n",
    ")\n",
    "print(\"AlphaFold download results:\")\n",
    "for uniprot_id, result in af_results.items():\n",
    "    print(f\"{uniprot_id}: {result}\")\n"
   ]
  }
 ],
 "metadata": {
  "kernelspec": {
   "display_name": "venv",
   "language": "python",
   "name": "python3"
  },
  "language_info": {
   "codemirror_mode": {
    "name": "ipython",
    "version": 3
   },
   "file_extension": ".py",
   "mimetype": "text/x-python",
   "name": "python",
   "nbconvert_exporter": "python",
   "pygments_lexer": "ipython3",
   "version": "3.11.11"
  }
 },
 "nbformat": 4,
 "nbformat_minor": 5
}
