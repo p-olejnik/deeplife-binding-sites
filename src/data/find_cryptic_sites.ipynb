{
 "cells": [
  {
   "cell_type": "markdown",
   "id": "3efd3057",
   "metadata": {},
   "source": [
    "In this notebook we implement approaches to finding cryptic binding sites\n",
    "based on the predicted structures downloaded from AlphaFold DB.\n",
    "\n",
    "In the `HACKATHON_DATA`\n",
    "\n",
    "1. **pLDDT based approach** - we look for pockets with low predicted\n",
    "pLDDT score, which indicates low confidence of structure prediction = high\n",
    "probability of conformational changes"
   ]
  },
  {
   "cell_type": "code",
   "execution_count": 3,
   "id": "fa4840d7",
   "metadata": {},
   "outputs": [],
   "source": [
    "import sys\n",
    "from pathlib import Path\n",
    "\n",
    "project_root = Path().resolve().parents[1]\n",
    "sys.path.append(str(project_root))"
   ]
  },
  {
   "cell_type": "code",
   "execution_count": 62,
   "id": "c8a20ab6",
   "metadata": {},
   "outputs": [],
   "source": [
    "import re\n",
    "\n",
    "from Bio.PDB import PDBParser, MMCIFParser\n",
    "import matplotlib.pyplot as plt\n",
    "import pandas as pd\n",
    "from tqdm import tqdm\n",
    "\n",
    "from src.constants import HACKATHON_DATA, ALPHAFOLD_STRUCTURES_DIR, PDB_STRUCTURES_DIR"
   ]
  },
  {
   "cell_type": "code",
   "execution_count": 5,
   "id": "956eba56",
   "metadata": {},
   "outputs": [
    {
     "data": {
      "text/html": [
       "<div>\n",
       "<style scoped>\n",
       "    .dataframe tbody tr th:only-of-type {\n",
       "        vertical-align: middle;\n",
       "    }\n",
       "\n",
       "    .dataframe tbody tr th {\n",
       "        vertical-align: top;\n",
       "    }\n",
       "\n",
       "    .dataframe thead th {\n",
       "        text-align: right;\n",
       "    }\n",
       "</style>\n",
       "<table border=\"1\" class=\"dataframe\">\n",
       "  <thead>\n",
       "    <tr style=\"text-align: right;\">\n",
       "      <th></th>\n",
       "      <th>pdb_id</th>\n",
       "      <th>query_poi</th>\n",
       "      <th>chain</th>\n",
       "      <th>uniprot_id</th>\n",
       "      <th>pdb_pocket_selection</th>\n",
       "      <th>alphafold_pocket_selection</th>\n",
       "    </tr>\n",
       "  </thead>\n",
       "  <tbody>\n",
       "    <tr>\n",
       "      <th>0</th>\n",
       "      <td>3kr4</td>\n",
       "      <td>K_BES_1003</td>\n",
       "      <td>K</td>\n",
       "      <td>Q8IL11</td>\n",
       "      <td>3kr4 and ( (chain K and resi 374+379+386+392+3...</td>\n",
       "      <td>AF-Q8IL11-F1-model_v4 and ( resi 374+379+386+3...</td>\n",
       "    </tr>\n",
       "    <tr>\n",
       "      <th>1</th>\n",
       "      <td>3kun</td>\n",
       "      <td>B_HEM_139</td>\n",
       "      <td>B</td>\n",
       "      <td>Q9NAV8</td>\n",
       "      <td>3kun and ( (chain B and resi 24+31+34+35+36+51...</td>\n",
       "      <td>AF-Q9NAV8-F1-model_v4 and ( resi 25+32+35+36+3...</td>\n",
       "    </tr>\n",
       "    <tr>\n",
       "      <th>2</th>\n",
       "      <td>5t67</td>\n",
       "      <td>A_SAH_502</td>\n",
       "      <td>A</td>\n",
       "      <td>B3TMQ9</td>\n",
       "      <td>5t67 and ( (chain A and resi 72+76+78+80+90+11...</td>\n",
       "      <td>AF-B3TMQ9-F1-model_v4 and ( resi 72+76+78+80+9...</td>\n",
       "    </tr>\n",
       "    <tr>\n",
       "      <th>3</th>\n",
       "      <td>3kr6</td>\n",
       "      <td>A_FFQ_500</td>\n",
       "      <td>A</td>\n",
       "      <td>P0A749</td>\n",
       "      <td>3kr6 and ( (chain A and resi 22+23+49+91+114+1...</td>\n",
       "      <td>AF-P0A749-F1-model_v4 and ( resi 22+23+49+91+1...</td>\n",
       "    </tr>\n",
       "    <tr>\n",
       "      <th>4</th>\n",
       "      <td>3kpz</td>\n",
       "      <td>A_ZNE_525</td>\n",
       "      <td>A</td>\n",
       "      <td>P11473</td>\n",
       "      <td>3kpz and ( (chain A and resi 143+147+150+227+2...</td>\n",
       "      <td>AF-P11473-F1-model_v4 and ( resi 143+147+150+2...</td>\n",
       "    </tr>\n",
       "  </tbody>\n",
       "</table>\n",
       "</div>"
      ],
      "text/plain": [
       "  pdb_id   query_poi chain uniprot_id  \\\n",
       "0   3kr4  K_BES_1003     K     Q8IL11   \n",
       "1   3kun   B_HEM_139     B     Q9NAV8   \n",
       "2   5t67   A_SAH_502     A     B3TMQ9   \n",
       "3   3kr6   A_FFQ_500     A     P0A749   \n",
       "4   3kpz   A_ZNE_525     A     P11473   \n",
       "\n",
       "                                pdb_pocket_selection  \\\n",
       "0  3kr4 and ( (chain K and resi 374+379+386+392+3...   \n",
       "1  3kun and ( (chain B and resi 24+31+34+35+36+51...   \n",
       "2  5t67 and ( (chain A and resi 72+76+78+80+90+11...   \n",
       "3  3kr6 and ( (chain A and resi 22+23+49+91+114+1...   \n",
       "4  3kpz and ( (chain A and resi 143+147+150+227+2...   \n",
       "\n",
       "                          alphafold_pocket_selection  \n",
       "0  AF-Q8IL11-F1-model_v4 and ( resi 374+379+386+3...  \n",
       "1  AF-Q9NAV8-F1-model_v4 and ( resi 25+32+35+36+3...  \n",
       "2  AF-B3TMQ9-F1-model_v4 and ( resi 72+76+78+80+9...  \n",
       "3  AF-P0A749-F1-model_v4 and ( resi 22+23+49+91+1...  \n",
       "4  AF-P11473-F1-model_v4 and ( resi 143+147+150+2...  "
      ]
     },
     "execution_count": 5,
     "metadata": {},
     "output_type": "execute_result"
    }
   ],
   "source": [
    "data = pd.read_csv(HACKATHON_DATA)\n",
    "data.head()"
   ]
  },
  {
   "cell_type": "code",
   "execution_count": 42,
   "id": "b24b8a76",
   "metadata": {},
   "outputs": [],
   "source": [
    "def parse_pocket_selection(\n",
    "    selection: str,\n",
    "    default_chain: str = \"A\",\n",
    ") -> tuple[str, list[int]]:\n",
    "    \"\"\"\n",
    "    Parse a PyMOL selection string to extract chain ID and residue indices.\n",
    "    \"\"\"\n",
    "    chain_match = re.search(r'chain\\s+([A-Za-z])', selection)\n",
    "    chain_id = chain_match.group(1) if chain_match else default_chain\n",
    "\n",
    "    resi_match = re.search(r'resi\\s+([0-9+\\s]+)', selection)\n",
    "    if not resi_match:\n",
    "        raise ValueError(\"No residue information found in selection string.\")\n",
    "\n",
    "    resi_list = [int(r.strip()) for r in resi_match.group(1).split('+') if r.strip().isdigit()]\n",
    "\n",
    "    return chain_id, resi_list"
   ]
  },
  {
   "cell_type": "markdown",
   "id": "c70233b9",
   "metadata": {},
   "source": [
    "### 1. pLDDT based approach"
   ]
  },
  {
   "cell_type": "code",
   "execution_count": 5,
   "id": "3ed5927f",
   "metadata": {},
   "outputs": [],
   "source": [
    "def extract_plddt_from_pdb(pdb_file: Path) -> list[tuple[int, float]] | list[float]:\n",
    "    \"\"\"\n",
    "    Extract pLDDT values from a PDB file downloaded from AlphaFold DB.\n",
    "\n",
    "    Returns:\n",
    "        A list of tuples, where each tuple contains the residue index and its\n",
    "        corresponding pLDDT value.\n",
    "    \"\"\"\n",
    "    parser = PDBParser(QUIET=True)\n",
    "    structure = parser.get_structure(\"model\", pdb_file)\n",
    "\n",
    "    # AlphaFold predictions contain one model and one chain\n",
    "    model = next(structure.get_models())\n",
    "    chain = next(model.get_chains())\n",
    "\n",
    "    residue_plddt_scores = []\n",
    "\n",
    "    for residue in chain:\n",
    "        atoms = list(residue.get_atoms())\n",
    "        # All atoms in a residue a have the same pLDDT in AF outputs, so\n",
    "        # we get the pLDDT value from the B-factor field of the first atom\n",
    "        plddt = atoms[0].get_bfactor()\n",
    "        residue_plddt_scores.append(plddt)\n",
    "\n",
    "    return residue_plddt_scores"
   ]
  },
  {
   "cell_type": "code",
   "execution_count": 6,
   "id": "dd32c64a",
   "metadata": {},
   "outputs": [],
   "source": [
    "def residues_mean_plddt(residues: list[int], plddt_scores: list[float]) -> float:\n",
    "    \"\"\"\n",
    "    Calculate the mean pLDDT score for a list of residues.\n",
    "    \"\"\"\n",
    "    selected_scores = [plddt_scores[r - 1] for r in residues] # residues are 1-indexed\n",
    "    return sum(selected_scores) / len(selected_scores)"
   ]
  },
  {
   "cell_type": "markdown",
   "id": "180c4aaa",
   "metadata": {},
   "source": [
    "Now we iterate over all AlphaFold pocket selections in our dataset, and check the mean value of pLDDT.\n",
    "If it is below threshold (low confidence prediction = possible high structure variation), classify the selected pocket as *cryptic*. "
   ]
  },
  {
   "cell_type": "code",
   "execution_count": 7,
   "id": "39ceef68",
   "metadata": {},
   "outputs": [
    {
     "data": {
      "text/html": [
       "<div>\n",
       "<style scoped>\n",
       "    .dataframe tbody tr th:only-of-type {\n",
       "        vertical-align: middle;\n",
       "    }\n",
       "\n",
       "    .dataframe tbody tr th {\n",
       "        vertical-align: top;\n",
       "    }\n",
       "\n",
       "    .dataframe thead th {\n",
       "        text-align: right;\n",
       "    }\n",
       "</style>\n",
       "<table border=\"1\" class=\"dataframe\">\n",
       "  <thead>\n",
       "    <tr style=\"text-align: right;\">\n",
       "      <th></th>\n",
       "      <th>uniprot_id</th>\n",
       "      <th>alphafold_pocket_selection</th>\n",
       "    </tr>\n",
       "  </thead>\n",
       "  <tbody>\n",
       "    <tr>\n",
       "      <th>0</th>\n",
       "      <td>Q8IL11</td>\n",
       "      <td>AF-Q8IL11-F1-model_v4 and ( resi 374+379+386+3...</td>\n",
       "    </tr>\n",
       "    <tr>\n",
       "      <th>1</th>\n",
       "      <td>Q9NAV8</td>\n",
       "      <td>AF-Q9NAV8-F1-model_v4 and ( resi 25+32+35+36+3...</td>\n",
       "    </tr>\n",
       "    <tr>\n",
       "      <th>2</th>\n",
       "      <td>B3TMQ9</td>\n",
       "      <td>AF-B3TMQ9-F1-model_v4 and ( resi 72+76+78+80+9...</td>\n",
       "    </tr>\n",
       "    <tr>\n",
       "      <th>3</th>\n",
       "      <td>P0A749</td>\n",
       "      <td>AF-P0A749-F1-model_v4 and ( resi 22+23+49+91+1...</td>\n",
       "    </tr>\n",
       "    <tr>\n",
       "      <th>4</th>\n",
       "      <td>P11473</td>\n",
       "      <td>AF-P11473-F1-model_v4 and ( resi 143+147+150+2...</td>\n",
       "    </tr>\n",
       "  </tbody>\n",
       "</table>\n",
       "</div>"
      ],
      "text/plain": [
       "  uniprot_id                         alphafold_pocket_selection\n",
       "0     Q8IL11  AF-Q8IL11-F1-model_v4 and ( resi 374+379+386+3...\n",
       "1     Q9NAV8  AF-Q9NAV8-F1-model_v4 and ( resi 25+32+35+36+3...\n",
       "2     B3TMQ9  AF-B3TMQ9-F1-model_v4 and ( resi 72+76+78+80+9...\n",
       "3     P0A749  AF-P0A749-F1-model_v4 and ( resi 22+23+49+91+1...\n",
       "4     P11473  AF-P11473-F1-model_v4 and ( resi 143+147+150+2..."
      ]
     },
     "execution_count": 7,
     "metadata": {},
     "output_type": "execute_result"
    }
   ],
   "source": [
    "pockets_plddt_df = data[['uniprot_id', 'alphafold_pocket_selection']].drop_duplicates()\n",
    "pockets_plddt_df.head()"
   ]
  },
  {
   "cell_type": "code",
   "execution_count": 8,
   "id": "16f9629b",
   "metadata": {},
   "outputs": [
    {
     "name": "stderr",
     "output_type": "stream",
     "text": [
      " 14%|█▎        | 4664/34260 [01:31<09:56, 49.60it/s]"
     ]
    },
    {
     "name": "stdout",
     "output_type": "stream",
     "text": [
      "Warning: PDB file for A0A7U3TBV6 not found. Skipping.\n"
     ]
    },
    {
     "name": "stderr",
     "output_type": "stream",
     "text": [
      " 14%|█▎        | 4684/34260 [01:32<09:01, 54.63it/s]"
     ]
    },
    {
     "name": "stdout",
     "output_type": "stream",
     "text": [
      "Warning: PDB file for A0A7U3TBV6 not found. Skipping.\n"
     ]
    },
    {
     "name": "stderr",
     "output_type": "stream",
     "text": [
      " 59%|█████▉    | 20218/34260 [06:17<03:01, 77.19it/s]"
     ]
    },
    {
     "name": "stdout",
     "output_type": "stream",
     "text": [
      "Error calculating mean pLDDT for 36266, Q7YTB0: list index out of range\n"
     ]
    },
    {
     "name": "stderr",
     "output_type": "stream",
     "text": [
      " 59%|█████▉    | 20226/34260 [06:17<03:29, 67.12it/s]"
     ]
    },
    {
     "name": "stdout",
     "output_type": "stream",
     "text": [
      "Error calculating mean pLDDT for 36299, Q7YTB0: list index out of range\n"
     ]
    },
    {
     "name": "stderr",
     "output_type": "stream",
     "text": [
      " 75%|███████▌  | 25797/34260 [07:58<02:45, 51.00it/s]"
     ]
    },
    {
     "name": "stdout",
     "output_type": "stream",
     "text": [
      "Error calculating mean pLDDT for 46941, P9WFR9: list index out of range\n"
     ]
    },
    {
     "name": "stderr",
     "output_type": "stream",
     "text": [
      " 75%|███████▌  | 25823/34260 [07:58<02:27, 57.17it/s]"
     ]
    },
    {
     "name": "stdout",
     "output_type": "stream",
     "text": [
      "Error calculating mean pLDDT for 46985, P9WFR9: list index out of range\n"
     ]
    },
    {
     "name": "stderr",
     "output_type": "stream",
     "text": [
      " 75%|███████▌  | 25855/34260 [07:59<02:48, 49.84it/s]"
     ]
    },
    {
     "name": "stdout",
     "output_type": "stream",
     "text": [
      "Error calculating mean pLDDT for 47038, P9WFR9: list index out of range\n",
      "Error calculating mean pLDDT for 47054, P9WFR9: list index out of range\n"
     ]
    },
    {
     "name": "stderr",
     "output_type": "stream",
     "text": [
      " 76%|███████▌  | 25869/34260 [07:59<02:24, 58.16it/s]"
     ]
    },
    {
     "name": "stdout",
     "output_type": "stream",
     "text": [
      "Error calculating mean pLDDT for 47062, P9WFR9: list index out of range\n"
     ]
    },
    {
     "name": "stderr",
     "output_type": "stream",
     "text": [
      "100%|██████████| 34260/34260 [10:35<00:00, 53.95it/s]\n"
     ]
    }
   ],
   "source": [
    "pocket_mean_plddt = []\n",
    "\n",
    "for idx, row in tqdm(pockets_plddt_df.iterrows(), total=len(pockets_plddt_df)):\n",
    "    uniprot_id = row['uniprot_id']\n",
    "    selection_str = row['alphafold_pocket_selection']\n",
    "    residues = extract_residues(selection_str)\n",
    "    pdb_file = ALPHAFOLD_STRUCTURES_DIR / f\"{uniprot_id}.pdb\"\n",
    "\n",
    "    if not pdb_file.exists():\n",
    "        print(f\"Warning: PDB file for {uniprot_id} not found. Skipping.\")\n",
    "        pocket_mean_plddt.append(None)\n",
    "        continue\n",
    "\n",
    "    plddt_scores = extract_plddt_from_pdb(pdb_file)\n",
    "\n",
    "    try:\n",
    "        mean_plddt = residues_mean_plddt(residues, plddt_scores)\n",
    "        pocket_mean_plddt.append(mean_plddt)\n",
    "    except Exception as e:\n",
    "        print(f\"Error calculating mean pLDDT for {idx}, {uniprot_id}: {e}\")\n",
    "        pocket_mean_plddt.append(None)\n",
    "        continue\n",
    "\n"
   ]
  },
  {
   "cell_type": "code",
   "execution_count": 9,
   "id": "565e1f0d",
   "metadata": {},
   "outputs": [],
   "source": [
    "pockets_plddt_df['mean_plddt'] = pocket_mean_plddt"
   ]
  },
  {
   "cell_type": "code",
   "execution_count": 10,
   "id": "722804ae",
   "metadata": {},
   "outputs": [
    {
     "data": {
      "text/html": [
       "<div>\n",
       "<style scoped>\n",
       "    .dataframe tbody tr th:only-of-type {\n",
       "        vertical-align: middle;\n",
       "    }\n",
       "\n",
       "    .dataframe tbody tr th {\n",
       "        vertical-align: top;\n",
       "    }\n",
       "\n",
       "    .dataframe thead th {\n",
       "        text-align: right;\n",
       "    }\n",
       "</style>\n",
       "<table border=\"1\" class=\"dataframe\">\n",
       "  <thead>\n",
       "    <tr style=\"text-align: right;\">\n",
       "      <th></th>\n",
       "      <th>uniprot_id</th>\n",
       "      <th>alphafold_pocket_selection</th>\n",
       "      <th>mean_plddt</th>\n",
       "    </tr>\n",
       "  </thead>\n",
       "  <tbody>\n",
       "    <tr>\n",
       "      <th>0</th>\n",
       "      <td>Q8IL11</td>\n",
       "      <td>AF-Q8IL11-F1-model_v4 and ( resi 374+379+386+3...</td>\n",
       "      <td>98.145500</td>\n",
       "    </tr>\n",
       "    <tr>\n",
       "      <th>1</th>\n",
       "      <td>Q9NAV8</td>\n",
       "      <td>AF-Q9NAV8-F1-model_v4 and ( resi 25+32+35+36+3...</td>\n",
       "      <td>96.951364</td>\n",
       "    </tr>\n",
       "    <tr>\n",
       "      <th>2</th>\n",
       "      <td>B3TMQ9</td>\n",
       "      <td>AF-B3TMQ9-F1-model_v4 and ( resi 72+76+78+80+9...</td>\n",
       "      <td>97.025217</td>\n",
       "    </tr>\n",
       "    <tr>\n",
       "      <th>3</th>\n",
       "      <td>P0A749</td>\n",
       "      <td>AF-P0A749-F1-model_v4 and ( resi 22+23+49+91+1...</td>\n",
       "      <td>90.284167</td>\n",
       "    </tr>\n",
       "    <tr>\n",
       "      <th>4</th>\n",
       "      <td>P11473</td>\n",
       "      <td>AF-P11473-F1-model_v4 and ( resi 143+147+150+2...</td>\n",
       "      <td>95.835385</td>\n",
       "    </tr>\n",
       "    <tr>\n",
       "      <th>...</th>\n",
       "      <td>...</td>\n",
       "      <td>...</td>\n",
       "      <td>...</td>\n",
       "    </tr>\n",
       "    <tr>\n",
       "      <th>64377</th>\n",
       "      <td>Q16698</td>\n",
       "      <td>AF-Q16698-F1-model_v4 and ( resi 66+69+70+71+8...</td>\n",
       "      <td>97.465417</td>\n",
       "    </tr>\n",
       "    <tr>\n",
       "      <th>64379</th>\n",
       "      <td>Q16698</td>\n",
       "      <td>AF-Q16698-F1-model_v4 and ( resi 66+69+70+71+7...</td>\n",
       "      <td>95.601538</td>\n",
       "    </tr>\n",
       "    <tr>\n",
       "      <th>64380</th>\n",
       "      <td>Q96X16</td>\n",
       "      <td>AF-Q96X16-F1-model_v4 and ( resi 396+398+401+4...</td>\n",
       "      <td>97.343750</td>\n",
       "    </tr>\n",
       "    <tr>\n",
       "      <th>64384</th>\n",
       "      <td>P69834</td>\n",
       "      <td>AF-P69834-F1-model_v4 and ( resi 84+85+86+87+9...</td>\n",
       "      <td>92.081333</td>\n",
       "    </tr>\n",
       "    <tr>\n",
       "      <th>64385</th>\n",
       "      <td>Q57816</td>\n",
       "      <td>AF-Q57816-F1-model_v4 and ( resi 45+46+47+48+5...</td>\n",
       "      <td>95.405185</td>\n",
       "    </tr>\n",
       "  </tbody>\n",
       "</table>\n",
       "<p>34260 rows × 3 columns</p>\n",
       "</div>"
      ],
      "text/plain": [
       "      uniprot_id                         alphafold_pocket_selection  \\\n",
       "0         Q8IL11  AF-Q8IL11-F1-model_v4 and ( resi 374+379+386+3...   \n",
       "1         Q9NAV8  AF-Q9NAV8-F1-model_v4 and ( resi 25+32+35+36+3...   \n",
       "2         B3TMQ9  AF-B3TMQ9-F1-model_v4 and ( resi 72+76+78+80+9...   \n",
       "3         P0A749  AF-P0A749-F1-model_v4 and ( resi 22+23+49+91+1...   \n",
       "4         P11473  AF-P11473-F1-model_v4 and ( resi 143+147+150+2...   \n",
       "...          ...                                                ...   \n",
       "64377     Q16698  AF-Q16698-F1-model_v4 and ( resi 66+69+70+71+8...   \n",
       "64379     Q16698  AF-Q16698-F1-model_v4 and ( resi 66+69+70+71+7...   \n",
       "64380     Q96X16  AF-Q96X16-F1-model_v4 and ( resi 396+398+401+4...   \n",
       "64384     P69834  AF-P69834-F1-model_v4 and ( resi 84+85+86+87+9...   \n",
       "64385     Q57816  AF-Q57816-F1-model_v4 and ( resi 45+46+47+48+5...   \n",
       "\n",
       "       mean_plddt  \n",
       "0       98.145500  \n",
       "1       96.951364  \n",
       "2       97.025217  \n",
       "3       90.284167  \n",
       "4       95.835385  \n",
       "...           ...  \n",
       "64377   97.465417  \n",
       "64379   95.601538  \n",
       "64380   97.343750  \n",
       "64384   92.081333  \n",
       "64385   95.405185  \n",
       "\n",
       "[34260 rows x 3 columns]"
      ]
     },
     "execution_count": 10,
     "metadata": {},
     "output_type": "execute_result"
    }
   ],
   "source": [
    "pockets_plddt_df"
   ]
  },
  {
   "cell_type": "code",
   "execution_count": 61,
   "id": "e62363bf",
   "metadata": {},
   "outputs": [
    {
     "ename": "NameError",
     "evalue": "name 'pockets_plddt_df' is not defined",
     "output_type": "error",
     "traceback": [
      "\u001b[31m---------------------------------------------------------------------------\u001b[39m",
      "\u001b[31mNameError\u001b[39m                                 Traceback (most recent call last)",
      "\u001b[36mCell\u001b[39m\u001b[36m \u001b[39m\u001b[32mIn[61]\u001b[39m\u001b[32m, line 1\u001b[39m\n\u001b[32m----> \u001b[39m\u001b[32m1\u001b[39m \u001b[43mpockets_plddt_df\u001b[49m[\u001b[33m'\u001b[39m\u001b[33mmean_plddt\u001b[39m\u001b[33m'\u001b[39m].hist(bins=\u001b[32m50\u001b[39m)\n\u001b[32m      2\u001b[39m plt.xlabel(\u001b[33m'\u001b[39m\u001b[33mMean pLDDT\u001b[39m\u001b[33m'\u001b[39m)\n\u001b[32m      3\u001b[39m plt.ylabel(\u001b[33m'\u001b[39m\u001b[33mCount\u001b[39m\u001b[33m'\u001b[39m)\n",
      "\u001b[31mNameError\u001b[39m: name 'pockets_plddt_df' is not defined"
     ]
    }
   ],
   "source": [
    "pockets_plddt_df['mean_plddt'].hist(bins=50)\n",
    "plt.xlabel('Mean pLDDT')\n",
    "plt.ylabel('Count')\n",
    "plt.title('Distribution of Mean pLDDT for Pockets')\n",
    "plt.show()"
   ]
  },
  {
   "cell_type": "code",
   "execution_count": 16,
   "id": "19e21f8f",
   "metadata": {},
   "outputs": [
    {
     "name": "stdout",
     "output_type": "stream",
     "text": [
      "Number of pockets with mean pLDDT <= 60: 19\n",
      "Number of pockets with mean pLDDT <= 65: 30\n",
      "Number of pockets with mean pLDDT <= 70: 61\n",
      "Number of pockets with mean pLDDT <= 75: 90\n",
      "Number of pockets with mean pLDDT <= 80: 248\n",
      "Number of pockets with mean pLDDT <= 85: 840\n",
      "Number of pockets with mean pLDDT <= 90: 3009\n"
     ]
    }
   ],
   "source": [
    "for threshold in [60, 65, 70, 75, 80, 85, 90]:\n",
    "    count = (pockets_plddt_df['mean_plddt'] <= threshold).sum()\n",
    "    print(f\"Number of pockets with mean pLDDT <= {threshold}: {count}\")"
   ]
  },
  {
   "cell_type": "markdown",
   "id": "e2f1f320",
   "metadata": {},
   "source": [
    "### 2. RMSD based approach"
   ]
  },
  {
   "cell_type": "code",
   "execution_count": 63,
   "id": "868731d2",
   "metadata": {},
   "outputs": [],
   "source": [
    "from Bio.PDB import Superimposer\n",
    "from Bio.PDB.Atom import Atom\n",
    "from Bio.PDB.Structure import Structure\n",
    "\n",
    "\n",
    "def get_pocket_atoms(\n",
    "    structure: Structure,\n",
    "    chain_id: str,\n",
    "    pocket_residues: list[int],\n",
    "    atom_names=['CA'],\n",
    ") -> list[Atom]:\n",
    "    \"\"\"\n",
    "    Extract atoms from a specified pocket in a PDB structure.\n",
    "    \"\"\"\n",
    "    pocket_atoms = []\n",
    "    model = structure[0]\n",
    "    chain = model[chain_id]\n",
    "    for res_id in pocket_residues:\n",
    "        residue = chain[res_id]\n",
    "        for atom_name in atom_names:\n",
    "            if atom_name in residue:\n",
    "                pocket_atoms.append(residue[atom_name])\n",
    "    return pocket_atoms\n",
    "\n",
    "\n",
    "def calculate_pocket_rmsd(\n",
    "    holo_struct: Structure,\n",
    "    apo_struct: Structure,\n",
    "    holo_chain: str,\n",
    "    apo_chain: str,\n",
    "    holo_residues: list[int],\n",
    "    apo_residues: list[int],\n",
    ") -> float:\n",
    "    \"\"\"\n",
    "    Calculate the RMSD between two pockets in holo and apo structures.\n",
    "    This function assumes that the residues in both pockets are aligned by their\n",
    "    C-alpha atoms.\n",
    "    \"\"\"\n",
    "    holo_atoms = get_pocket_atoms(holo_struct, holo_chain, holo_residues)\n",
    "    apo_atoms = get_pocket_atoms(apo_struct, apo_chain, apo_residues)\n",
    "\n",
    "    if len(holo_atoms) != len(apo_atoms):\n",
    "        raise ValueError(\"The number of atoms in the holo and apo pockets must be the same.\")\n",
    "    if len(holo_atoms) == 0:\n",
    "        raise ValueError(\"No atoms found in the specified pockets.\")\n",
    "    if len(holo_atoms) < 3:\n",
    "        raise ValueError(\"At least 3 atoms are required to calculate RMSD.\")\n",
    "\n",
    "    superimposer = Superimposer()\n",
    "    superimposer.set_atoms(holo_atoms, apo_atoms)\n",
    "    return superimposer.rms\n"
   ]
  },
  {
   "cell_type": "code",
   "execution_count": null,
   "id": "55a61b89",
   "metadata": {},
   "outputs": [],
   "source": [
    "pdb_parser = PDBParser(QUIET=True)\n",
    "cif_parser = MMCIFParser(QUIET=True)\n",
    "\n",
    "for _, row in tqdm(data.iterrows(), total=len(data)):\n",
    "    pdb_id = row['pdb_id']\n",
    "    uniprot_id = row['uniprot_id']\n",
    "    holo_pocket_selection = row['pdb_pocket_selection']\n",
    "    apo_pocket_selection = row['alphafold_pocket_selection']\n",
    "\n",
    "    if pd.isna(holo_pocket_selection) or pd.isna(apo_pocket_selection):\n",
    "        continue\n",
    "\n",
    "    holo_chain, holo_residues = parse_pocket_selection(holo_pocket_selection)\n",
    "    apo_chain, apo_residues = parse_pocket_selection(apo_pocket_selection)\n",
    "\n",
    "    holo_file = PDB_STRUCTURES_DIR / f\"{pdb_id}.cif\"\n",
    "    apo_file = ALPHAFOLD_STRUCTURES_DIR / f\"{uniprot_id}.pdb\"\n",
    "\n",
    "    if not holo_file.exists() or not apo_file.exists():\n",
    "        print(f\"Warning: PDB files for {uniprot_id} not found. Skipping.\")\n",
    "        continue\n",
    "\n",
    "    holo_structure = cif_parser.get_structure(pdb_id, holo_file)\n",
    "    apo_structure = pdb_parser.get_structure(uniprot_id, apo_file)\n",
    "\n",
    "    try:\n",
    "        rmsd = calculate_pocket_rmsd(\n",
    "            holo_structure,\n",
    "            apo_structure,\n",
    "            holo_chain,\n",
    "            apo_chain,\n",
    "            holo_residues,\n",
    "            apo_residues\n",
    "        )\n",
    "        # print(f\"RMSD for {uniprot_id} - {pdb_id}: {rmsd:.2f} Å\")\n",
    "    except Exception as e:\n",
    "        print(f\"Error calculating RMSD for {uniprot_id}: {e}\")"
   ]
  }
 ],
 "metadata": {
  "kernelspec": {
   "display_name": "venv",
   "language": "python",
   "name": "python3"
  },
  "language_info": {
   "codemirror_mode": {
    "name": "ipython",
    "version": 3
   },
   "file_extension": ".py",
   "mimetype": "text/x-python",
   "name": "python",
   "nbconvert_exporter": "python",
   "pygments_lexer": "ipython3",
   "version": "3.11.11"
  }
 },
 "nbformat": 4,
 "nbformat_minor": 5
}
