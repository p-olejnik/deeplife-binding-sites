{
 "cells": [
  {
   "cell_type": "code",
   "execution_count": 1,
   "id": "3e843524",
   "metadata": {},
   "outputs": [],
   "source": [
    "import sys\n",
    "from pathlib import Path\n",
    "\n",
    "project_root = Path().resolve().parents[1]\n",
    "sys.path.append(str(project_root))"
   ]
  },
  {
   "cell_type": "code",
   "execution_count": 31,
   "id": "4007d6f3",
   "metadata": {},
   "outputs": [],
   "source": [
    "import re\n",
    "\n",
    "from Bio.PDB import PDBParser\n",
    "from Bio.SeqUtils import IUPACData\n",
    "import pandas as pd\n",
    "from tqdm import tqdm\n",
    "\n",
    "from src.constants import HACKATHON_DATA, ALPHAFOLD_STRUCTURES_DIR, DATA_DIR"
   ]
  },
  {
   "cell_type": "code",
   "execution_count": 18,
   "id": "e9513bfc",
   "metadata": {},
   "outputs": [
    {
     "data": {
      "text/plain": [
       "array(['Q8IL11', 'Q9NAV8', 'B3TMQ9', ..., 'Q96AZ6', 'Q96X16', 'P69834'],\n",
       "      shape=(8130,), dtype=object)"
      ]
     },
     "execution_count": 18,
     "metadata": {},
     "output_type": "execute_result"
    }
   ],
   "source": [
    "data = pd.read_csv(HACKATHON_DATA)\n",
    "unique_uniprot_ids = data['uniprot_id'].unique()\n",
    "unique_uniprot_ids"
   ]
  },
  {
   "cell_type": "code",
   "execution_count": 44,
   "id": "66234712",
   "metadata": {},
   "outputs": [],
   "source": [
    "def parse_pocket_selection(\n",
    "    selection: str,\n",
    "    default_chain: str = \"A\",\n",
    ") -> tuple[str, list[int]]:\n",
    "    \"\"\"\n",
    "    Parse a PyMOL selection string to extract chain ID and residue indices.\n",
    "    \"\"\"\n",
    "    chain_match = re.search(r'chain\\s+([A-Za-z])', selection)\n",
    "    chain_id = chain_match.group(1) if chain_match else default_chain\n",
    "\n",
    "    resi_match = re.search(r'resi\\s+([0-9+\\s]+)', selection)\n",
    "    if not resi_match:\n",
    "        raise ValueError(\"No residue information found in selection string.\")\n",
    "\n",
    "    resi_list = [int(r.strip()) for r in resi_match.group(1).split('+') if r.strip().isdigit()]\n",
    "\n",
    "    return chain_id, resi_list\n",
    "\n",
    "\n",
    "def aa_3_to_1(three_letter_code: str) -> str:\n",
    "    \"\"\"\n",
    "    Convert a three-letter amino acid code to a one-letter code.\n",
    "    \"\"\"\n",
    "    # Capitalize first letter and convert the rest to lowercase\n",
    "    three_letter_code = three_letter_code.capitalize()\n",
    "    if three_letter_code in IUPACData.protein_letters_3to1:\n",
    "        return IUPACData.protein_letters_3to1[three_letter_code]\n",
    "    else:\n",
    "        raise ValueError(f\"Invalid three-letter amino acid code: {three_letter_code}\")\n",
    "\n",
    "\n",
    "def extract_sequence(pdb_file: Path) -> str:\n",
    "    \"\"\"\n",
    "    Extract the sequence from a PDB file.\n",
    "    \"\"\"\n",
    "    parser = PDBParser(QUIET=True)\n",
    "    structure = parser.get_structure('PDB', pdb_file)\n",
    "\n",
    "    # Assume the first model and chain for AlphaFold structures\n",
    "    model = next(structure.get_models())\n",
    "    chain = next(model.get_chains())\n",
    "    seq = [aa_3_to_1(residue.resname) for residue in chain]\n",
    "    return ''.join(seq)"
   ]
  },
  {
   "cell_type": "code",
   "execution_count": 45,
   "id": "ab53b7d0",
   "metadata": {},
   "outputs": [
    {
     "name": "stderr",
     "output_type": "stream",
     "text": [
      "Processing UniProt IDs:  18%|█▊        | 1445/8130 [00:27<02:08, 52.06it/s]"
     ]
    },
    {
     "name": "stdout",
     "output_type": "stream",
     "text": [
      "Error processing A0A7U3TBV6: [Errno 2] No such file or directory: '/Users/pawel/deeplife-binding-sites/data/structures/alphafold/A0A7U3TBV6.cif'\n"
     ]
    },
    {
     "name": "stderr",
     "output_type": "stream",
     "text": [
      "Processing UniProt IDs:  71%|███████▏  | 5807/8130 [01:43<00:34, 66.42it/s]"
     ]
    },
    {
     "name": "stdout",
     "output_type": "stream",
     "text": [
      "Error processing A1X808: Empty file.\n"
     ]
    },
    {
     "name": "stderr",
     "output_type": "stream",
     "text": [
      "Processing UniProt IDs: 100%|██████████| 8130/8130 [02:22<00:00, 57.22it/s]\n"
     ]
    }
   ],
   "source": [
    "pdb_parser = PDBParser(QUIET=True)\n",
    "sequences = []\n",
    "\n",
    "for uniprot_id in tqdm(unique_uniprot_ids, desc=\"Processing UniProt IDs\"):\n",
    "    pdb_file = ALPHAFOLD_STRUCTURES_DIR / f\"{uniprot_id}.cif\" # Yes, the format is mismatched, pls ignore this for now\n",
    "    try:\n",
    "        sequence = extract_sequence(pdb_file)\n",
    "        sequences.append(sequence)\n",
    "        # print(f\"Extracted sequence for {uniprot_id}: {sequence}\")\n",
    "    except Exception as e:\n",
    "        sequences.append(None)\n",
    "        print(f\"Error processing {uniprot_id}: {e}\")"
   ]
  },
  {
   "cell_type": "code",
   "execution_count": 47,
   "id": "9e625bb6",
   "metadata": {},
   "outputs": [],
   "source": [
    "sequences_df_path = DATA_DIR / 'sequences.csv'\n",
    "sequences_df = pd.DataFrame({\n",
    "    'uniprot_id': unique_uniprot_ids,\n",
    "    'sequence': sequences\n",
    "})\n",
    "sequences_df.to_csv(sequences_df_path, index=False)"
   ]
  },
  {
   "cell_type": "code",
   "execution_count": null,
   "id": "9bdbaba7",
   "metadata": {},
   "outputs": [],
   "source": []
  }
 ],
 "metadata": {
  "kernelspec": {
   "display_name": "venv",
   "language": "python",
   "name": "python3"
  },
  "language_info": {
   "codemirror_mode": {
    "name": "ipython",
    "version": 3
   },
   "file_extension": ".py",
   "mimetype": "text/x-python",
   "name": "python",
   "nbconvert_exporter": "python",
   "pygments_lexer": "ipython3",
   "version": "3.11.11"
  }
 },
 "nbformat": 4,
 "nbformat_minor": 5
}
